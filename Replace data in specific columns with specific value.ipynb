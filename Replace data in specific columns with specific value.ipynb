{
 "cells": [
  {
   "cell_type": "code",
   "execution_count": 9,
   "id": "1c5bec08",
   "metadata": {},
   "outputs": [],
   "source": [
    "import pandas as pd\n",
    "import numpy as np"
   ]
  },
  {
   "cell_type": "markdown",
   "id": "b1ec21d9",
   "metadata": {},
   "source": [
    "### Replace a Scalar Value on a Specific Column"
   ]
  },
  {
   "cell_type": "code",
   "execution_count": 10,
   "id": "5b8e487d",
   "metadata": {},
   "outputs": [
    {
     "data": {
      "text/html": [
       "<div>\n",
       "<style scoped>\n",
       "    .dataframe tbody tr th:only-of-type {\n",
       "        vertical-align: middle;\n",
       "    }\n",
       "\n",
       "    .dataframe tbody tr th {\n",
       "        vertical-align: top;\n",
       "    }\n",
       "\n",
       "    .dataframe thead th {\n",
       "        text-align: right;\n",
       "    }\n",
       "</style>\n",
       "<table border=\"1\" class=\"dataframe\">\n",
       "  <thead>\n",
       "    <tr style=\"text-align: right;\">\n",
       "      <th></th>\n",
       "      <th>Name</th>\n",
       "      <th>Age</th>\n",
       "      <th>Gender</th>\n",
       "    </tr>\n",
       "  </thead>\n",
       "  <tbody>\n",
       "    <tr>\n",
       "      <th>0</th>\n",
       "      <td>maryam</td>\n",
       "      <td>25</td>\n",
       "      <td>F</td>\n",
       "    </tr>\n",
       "    <tr>\n",
       "      <th>1</th>\n",
       "      <td>Mohamed</td>\n",
       "      <td>30</td>\n",
       "      <td>M</td>\n",
       "    </tr>\n",
       "    <tr>\n",
       "      <th>2</th>\n",
       "      <td>Mailk</td>\n",
       "      <td>35</td>\n",
       "      <td>M</td>\n",
       "    </tr>\n",
       "  </tbody>\n",
       "</table>\n",
       "</div>"
      ],
      "text/plain": [
       "      Name  Age Gender\n",
       "0   maryam   25      F\n",
       "1  Mohamed   30      M\n",
       "2    Mailk   35      M"
      ]
     },
     "execution_count": 10,
     "metadata": {},
     "output_type": "execute_result"
    }
   ],
   "source": [
    "df = pd.DataFrame({\n",
    "    'Name':[\"maryam\",\"Mohamed\",\"Mailk\"],\n",
    "    'Age':[25,30,35],\n",
    "    'Gender':[\"Female\",\"Male\",\"Male\"]\n",
    "})\n",
    "\n",
    "df.replace('Male', 'M', inplace=True)\n",
    "df.replace('Female','F',inplace=True)\n",
    "\n",
    "df"
   ]
  },
  {
   "cell_type": "markdown",
   "id": "07695567",
   "metadata": {},
   "source": [
    "### Replace Multiple Values on a Specific Column"
   ]
  },
  {
   "cell_type": "code",
   "execution_count": 11,
   "id": "4bfbedf0",
   "metadata": {},
   "outputs": [
    {
     "data": {
      "text/html": [
       "<div>\n",
       "<style scoped>\n",
       "    .dataframe tbody tr th:only-of-type {\n",
       "        vertical-align: middle;\n",
       "    }\n",
       "\n",
       "    .dataframe tbody tr th {\n",
       "        vertical-align: top;\n",
       "    }\n",
       "\n",
       "    .dataframe thead th {\n",
       "        text-align: right;\n",
       "    }\n",
       "</style>\n",
       "<table border=\"1\" class=\"dataframe\">\n",
       "  <thead>\n",
       "    <tr style=\"text-align: right;\">\n",
       "      <th></th>\n",
       "      <th>Name</th>\n",
       "      <th>Age</th>\n",
       "      <th>Grade</th>\n",
       "    </tr>\n",
       "  </thead>\n",
       "  <tbody>\n",
       "    <tr>\n",
       "      <th>0</th>\n",
       "      <td>Alice</td>\n",
       "      <td>20</td>\n",
       "      <td>Pass</td>\n",
       "    </tr>\n",
       "    <tr>\n",
       "      <th>1</th>\n",
       "      <td>David</td>\n",
       "      <td>30</td>\n",
       "      <td>Pass</td>\n",
       "    </tr>\n",
       "    <tr>\n",
       "      <th>2</th>\n",
       "      <td>jhon</td>\n",
       "      <td>35</td>\n",
       "      <td>Fail</td>\n",
       "    </tr>\n",
       "    <tr>\n",
       "      <th>3</th>\n",
       "      <td>Yamach</td>\n",
       "      <td>29</td>\n",
       "      <td>Fail</td>\n",
       "    </tr>\n",
       "  </tbody>\n",
       "</table>\n",
       "</div>"
      ],
      "text/plain": [
       "     Name  Age Grade\n",
       "0   Alice   20  Pass\n",
       "1   David   30  Pass\n",
       "2    jhon   35  Fail\n",
       "3  Yamach   29  Fail"
      ]
     },
     "execution_count": 11,
     "metadata": {},
     "output_type": "execute_result"
    }
   ],
   "source": [
    "df = pd.DataFrame({\n",
    "    'Name':[\"Alice\",\"David\",\"jhon\",\"Yamach\"],\n",
    "    'Age':[20,30,35,29],\n",
    "    'Grade':[\"A\",\"B\",\"c\",\"d\"]\n",
    "})\n",
    "\n",
    "df.replace([\"A\",\"B\"], \"Pass\", inplace=True)\n",
    "df.replace([\"c\",\"d\"], \"Fail\", inplace=True)\n",
    "\n",
    "df"
   ]
  },
  {
   "cell_type": "markdown",
   "id": "26054359",
   "metadata": {},
   "source": [
    "### Replace Values on Multiple Columns"
   ]
  },
  {
   "cell_type": "code",
   "execution_count": 13,
   "id": "2f00eeb0",
   "metadata": {},
   "outputs": [
    {
     "name": "stdout",
     "output_type": "stream",
     "text": [
      "   height  weight\n",
      "0   175.0    70.0\n",
      "1   180.0     NaN\n",
      "2     NaN    80.0\n",
      "3   170.0    75.0\n"
     ]
    }
   ],
   "source": [
    "df = pd.DataFrame({'height': [175, 180, np.nan, 170],\n",
    "                   'weight': [70, np.nan, 80, 75]})\n",
    "\n",
    "mean_height = df['height'].mean()\n",
    "mean_weight = df['weight'].mean()\n",
    "\n",
    "df.replace({'height': 'NaN', 'weight': 'NaN'},\n",
    "           {'height': mean_height, 'weight': mean_weight},\n",
    "           inplace=True)\n",
    "\n",
    "print(df)"
   ]
  },
  {
   "cell_type": "code",
   "execution_count": null,
   "id": "b9ce437e",
   "metadata": {},
   "outputs": [],
   "source": []
  },
  {
   "cell_type": "code",
   "execution_count": 14,
   "id": "ac00483b",
   "metadata": {},
   "outputs": [],
   "source": [
    "df = pd.DataFrame({\n",
    "    'name' : ['mohamed','james','boody','salma','anwar','ali','ahmed'],\n",
    "    'age' : [32,23,45,35,20,28,55],\n",
    "    'sex' : ['male','male','male','female','male','male','male']\n",
    "})"
   ]
  },
  {
   "cell_type": "code",
   "execution_count": 15,
   "id": "dc0aa583",
   "metadata": {},
   "outputs": [
    {
     "data": {
      "text/html": [
       "<div>\n",
       "<style scoped>\n",
       "    .dataframe tbody tr th:only-of-type {\n",
       "        vertical-align: middle;\n",
       "    }\n",
       "\n",
       "    .dataframe tbody tr th {\n",
       "        vertical-align: top;\n",
       "    }\n",
       "\n",
       "    .dataframe thead th {\n",
       "        text-align: right;\n",
       "    }\n",
       "</style>\n",
       "<table border=\"1\" class=\"dataframe\">\n",
       "  <thead>\n",
       "    <tr style=\"text-align: right;\">\n",
       "      <th></th>\n",
       "      <th>name</th>\n",
       "      <th>age</th>\n",
       "      <th>sex</th>\n",
       "    </tr>\n",
       "  </thead>\n",
       "  <tbody>\n",
       "    <tr>\n",
       "      <th>0</th>\n",
       "      <td>mohamed</td>\n",
       "      <td>32</td>\n",
       "      <td>male</td>\n",
       "    </tr>\n",
       "    <tr>\n",
       "      <th>1</th>\n",
       "      <td>james</td>\n",
       "      <td>23</td>\n",
       "      <td>male</td>\n",
       "    </tr>\n",
       "    <tr>\n",
       "      <th>2</th>\n",
       "      <td>boody</td>\n",
       "      <td>45</td>\n",
       "      <td>male</td>\n",
       "    </tr>\n",
       "    <tr>\n",
       "      <th>3</th>\n",
       "      <td>salma</td>\n",
       "      <td>35</td>\n",
       "      <td>female</td>\n",
       "    </tr>\n",
       "    <tr>\n",
       "      <th>4</th>\n",
       "      <td>anwar</td>\n",
       "      <td>20</td>\n",
       "      <td>male</td>\n",
       "    </tr>\n",
       "    <tr>\n",
       "      <th>5</th>\n",
       "      <td>ali</td>\n",
       "      <td>28</td>\n",
       "      <td>male</td>\n",
       "    </tr>\n",
       "    <tr>\n",
       "      <th>6</th>\n",
       "      <td>ahmed</td>\n",
       "      <td>55</td>\n",
       "      <td>male</td>\n",
       "    </tr>\n",
       "  </tbody>\n",
       "</table>\n",
       "</div>"
      ],
      "text/plain": [
       "      name  age     sex\n",
       "0  mohamed   32    male\n",
       "1    james   23    male\n",
       "2    boody   45    male\n",
       "3    salma   35  female\n",
       "4    anwar   20    male\n",
       "5      ali   28    male\n",
       "6    ahmed   55    male"
      ]
     },
     "execution_count": 15,
     "metadata": {},
     "output_type": "execute_result"
    }
   ],
   "source": [
    "df"
   ]
  },
  {
   "cell_type": "code",
   "execution_count": 16,
   "id": "5e0189f8",
   "metadata": {},
   "outputs": [
    {
     "data": {
      "text/plain": [
       "'mohamed'"
      ]
     },
     "execution_count": 16,
     "metadata": {},
     "output_type": "execute_result"
    }
   ],
   "source": [
    "df.loc[0, 'name']"
   ]
  },
  {
   "cell_type": "code",
   "execution_count": 17,
   "id": "c746b1c7",
   "metadata": {},
   "outputs": [
    {
     "data": {
      "text/plain": [
       "'mohamed'"
      ]
     },
     "execution_count": 17,
     "metadata": {},
     "output_type": "execute_result"
    }
   ],
   "source": [
    "df.iloc[0, 0]"
   ]
  },
  {
   "cell_type": "code",
   "execution_count": 18,
   "id": "712d52a7",
   "metadata": {},
   "outputs": [
    {
     "data": {
      "text/plain": [
       "0    mohamed\n",
       "1      james\n",
       "2      boody\n",
       "Name: name, dtype: object"
      ]
     },
     "execution_count": 18,
     "metadata": {},
     "output_type": "execute_result"
    }
   ],
   "source": [
    "df.loc[0:2, 'name']"
   ]
  },
  {
   "cell_type": "code",
   "execution_count": 19,
   "id": "884e8cc0",
   "metadata": {},
   "outputs": [
    {
     "data": {
      "text/plain": [
       "0    mohamed\n",
       "1      james\n",
       "Name: name, dtype: object"
      ]
     },
     "execution_count": 19,
     "metadata": {},
     "output_type": "execute_result"
    }
   ],
   "source": [
    "df.iloc[0:2, 0]"
   ]
  },
  {
   "cell_type": "code",
   "execution_count": 20,
   "id": "122e1de2",
   "metadata": {},
   "outputs": [
    {
     "data": {
      "text/plain": [
       "0    mohamed\n",
       "1      james\n",
       "2      boody\n",
       "Name: name, dtype: object"
      ]
     },
     "execution_count": 20,
     "metadata": {},
     "output_type": "execute_result"
    }
   ],
   "source": [
    "df.iloc[0:3, 0]"
   ]
  },
  {
   "cell_type": "code",
   "execution_count": 24,
   "id": "61a95c0b",
   "metadata": {},
   "outputs": [
    {
     "data": {
      "text/plain": [
       "'ali'"
      ]
     },
     "execution_count": 24,
     "metadata": {},
     "output_type": "execute_result"
    }
   ],
   "source": [
    "df.at[5, 'name']"
   ]
  },
  {
   "cell_type": "code",
   "execution_count": 25,
   "id": "097630e2",
   "metadata": {},
   "outputs": [],
   "source": [
    "df.at[5, 'name'] = 'harry potter'"
   ]
  },
  {
   "cell_type": "code",
   "execution_count": 26,
   "id": "2c47874c",
   "metadata": {},
   "outputs": [
    {
     "data": {
      "text/plain": [
       "'harry potter'"
      ]
     },
     "execution_count": 26,
     "metadata": {},
     "output_type": "execute_result"
    }
   ],
   "source": [
    "df.at[5, 'name']"
   ]
  },
  {
   "cell_type": "code",
   "execution_count": 27,
   "id": "d5baecb1",
   "metadata": {},
   "outputs": [
    {
     "data": {
      "text/html": [
       "<div>\n",
       "<style scoped>\n",
       "    .dataframe tbody tr th:only-of-type {\n",
       "        vertical-align: middle;\n",
       "    }\n",
       "\n",
       "    .dataframe tbody tr th {\n",
       "        vertical-align: top;\n",
       "    }\n",
       "\n",
       "    .dataframe thead th {\n",
       "        text-align: right;\n",
       "    }\n",
       "</style>\n",
       "<table border=\"1\" class=\"dataframe\">\n",
       "  <thead>\n",
       "    <tr style=\"text-align: right;\">\n",
       "      <th></th>\n",
       "      <th>name</th>\n",
       "      <th>age</th>\n",
       "      <th>sex</th>\n",
       "    </tr>\n",
       "  </thead>\n",
       "  <tbody>\n",
       "    <tr>\n",
       "      <th>0</th>\n",
       "      <td>mohamed</td>\n",
       "      <td>32</td>\n",
       "      <td>male</td>\n",
       "    </tr>\n",
       "    <tr>\n",
       "      <th>1</th>\n",
       "      <td>james</td>\n",
       "      <td>23</td>\n",
       "      <td>male</td>\n",
       "    </tr>\n",
       "    <tr>\n",
       "      <th>2</th>\n",
       "      <td>boody</td>\n",
       "      <td>45</td>\n",
       "      <td>male</td>\n",
       "    </tr>\n",
       "    <tr>\n",
       "      <th>3</th>\n",
       "      <td>salma</td>\n",
       "      <td>35</td>\n",
       "      <td>female</td>\n",
       "    </tr>\n",
       "    <tr>\n",
       "      <th>4</th>\n",
       "      <td>anwar</td>\n",
       "      <td>20</td>\n",
       "      <td>male</td>\n",
       "    </tr>\n",
       "    <tr>\n",
       "      <th>5</th>\n",
       "      <td>harry potter</td>\n",
       "      <td>28</td>\n",
       "      <td>male</td>\n",
       "    </tr>\n",
       "    <tr>\n",
       "      <th>6</th>\n",
       "      <td>ahmed</td>\n",
       "      <td>55</td>\n",
       "      <td>male</td>\n",
       "    </tr>\n",
       "  </tbody>\n",
       "</table>\n",
       "</div>"
      ],
      "text/plain": [
       "           name  age     sex\n",
       "0       mohamed   32    male\n",
       "1         james   23    male\n",
       "2         boody   45    male\n",
       "3         salma   35  female\n",
       "4         anwar   20    male\n",
       "5  harry potter   28    male\n",
       "6         ahmed   55    male"
      ]
     },
     "execution_count": 27,
     "metadata": {},
     "output_type": "execute_result"
    }
   ],
   "source": [
    "df"
   ]
  },
  {
   "cell_type": "code",
   "execution_count": 28,
   "id": "76b00ba1",
   "metadata": {},
   "outputs": [],
   "source": [
    "# replace \"male\" with \"king\"\n",
    "df.sex.replace({'male' : 'kings'},\n",
    "              regex=True, inplace=True)"
   ]
  },
  {
   "cell_type": "code",
   "execution_count": 29,
   "id": "9727db8e",
   "metadata": {},
   "outputs": [
    {
     "data": {
      "text/html": [
       "<div>\n",
       "<style scoped>\n",
       "    .dataframe tbody tr th:only-of-type {\n",
       "        vertical-align: middle;\n",
       "    }\n",
       "\n",
       "    .dataframe tbody tr th {\n",
       "        vertical-align: top;\n",
       "    }\n",
       "\n",
       "    .dataframe thead th {\n",
       "        text-align: right;\n",
       "    }\n",
       "</style>\n",
       "<table border=\"1\" class=\"dataframe\">\n",
       "  <thead>\n",
       "    <tr style=\"text-align: right;\">\n",
       "      <th></th>\n",
       "      <th>name</th>\n",
       "      <th>age</th>\n",
       "      <th>sex</th>\n",
       "    </tr>\n",
       "  </thead>\n",
       "  <tbody>\n",
       "    <tr>\n",
       "      <th>0</th>\n",
       "      <td>mohamed</td>\n",
       "      <td>32</td>\n",
       "      <td>kings</td>\n",
       "    </tr>\n",
       "    <tr>\n",
       "      <th>1</th>\n",
       "      <td>james</td>\n",
       "      <td>23</td>\n",
       "      <td>kings</td>\n",
       "    </tr>\n",
       "    <tr>\n",
       "      <th>2</th>\n",
       "      <td>boody</td>\n",
       "      <td>45</td>\n",
       "      <td>kings</td>\n",
       "    </tr>\n",
       "    <tr>\n",
       "      <th>3</th>\n",
       "      <td>salma</td>\n",
       "      <td>35</td>\n",
       "      <td>fekings</td>\n",
       "    </tr>\n",
       "    <tr>\n",
       "      <th>4</th>\n",
       "      <td>anwar</td>\n",
       "      <td>20</td>\n",
       "      <td>kings</td>\n",
       "    </tr>\n",
       "    <tr>\n",
       "      <th>5</th>\n",
       "      <td>harry potter</td>\n",
       "      <td>28</td>\n",
       "      <td>kings</td>\n",
       "    </tr>\n",
       "    <tr>\n",
       "      <th>6</th>\n",
       "      <td>ahmed</td>\n",
       "      <td>55</td>\n",
       "      <td>kings</td>\n",
       "    </tr>\n",
       "  </tbody>\n",
       "</table>\n",
       "</div>"
      ],
      "text/plain": [
       "           name  age      sex\n",
       "0       mohamed   32    kings\n",
       "1         james   23    kings\n",
       "2         boody   45    kings\n",
       "3         salma   35  fekings\n",
       "4         anwar   20    kings\n",
       "5  harry potter   28    kings\n",
       "6         ahmed   55    kings"
      ]
     },
     "execution_count": 29,
     "metadata": {},
     "output_type": "execute_result"
    }
   ],
   "source": [
    "df"
   ]
  },
  {
   "cell_type": "code",
   "execution_count": 32,
   "id": "fe0bca78",
   "metadata": {},
   "outputs": [
    {
     "data": {
      "text/plain": [
       "'fekings'"
      ]
     },
     "execution_count": 32,
     "metadata": {},
     "output_type": "execute_result"
    }
   ],
   "source": [
    "df.at[3,'sex']"
   ]
  },
  {
   "cell_type": "code",
   "execution_count": 33,
   "id": "af562341",
   "metadata": {},
   "outputs": [],
   "source": [
    "df.at[3,'sex'] = 'female'"
   ]
  },
  {
   "cell_type": "code",
   "execution_count": 34,
   "id": "cf3c234f",
   "metadata": {},
   "outputs": [
    {
     "data": {
      "text/plain": [
       "'female'"
      ]
     },
     "execution_count": 34,
     "metadata": {},
     "output_type": "execute_result"
    }
   ],
   "source": [
    "df.at[3,'sex']"
   ]
  },
  {
   "cell_type": "code",
   "execution_count": 35,
   "id": "f90d9132",
   "metadata": {},
   "outputs": [
    {
     "data": {
      "text/html": [
       "<div>\n",
       "<style scoped>\n",
       "    .dataframe tbody tr th:only-of-type {\n",
       "        vertical-align: middle;\n",
       "    }\n",
       "\n",
       "    .dataframe tbody tr th {\n",
       "        vertical-align: top;\n",
       "    }\n",
       "\n",
       "    .dataframe thead th {\n",
       "        text-align: right;\n",
       "    }\n",
       "</style>\n",
       "<table border=\"1\" class=\"dataframe\">\n",
       "  <thead>\n",
       "    <tr style=\"text-align: right;\">\n",
       "      <th></th>\n",
       "      <th>name</th>\n",
       "      <th>age</th>\n",
       "      <th>sex</th>\n",
       "    </tr>\n",
       "  </thead>\n",
       "  <tbody>\n",
       "    <tr>\n",
       "      <th>0</th>\n",
       "      <td>mohamed</td>\n",
       "      <td>32</td>\n",
       "      <td>kings</td>\n",
       "    </tr>\n",
       "    <tr>\n",
       "      <th>1</th>\n",
       "      <td>james</td>\n",
       "      <td>23</td>\n",
       "      <td>kings</td>\n",
       "    </tr>\n",
       "    <tr>\n",
       "      <th>2</th>\n",
       "      <td>boody</td>\n",
       "      <td>45</td>\n",
       "      <td>kings</td>\n",
       "    </tr>\n",
       "    <tr>\n",
       "      <th>3</th>\n",
       "      <td>salma</td>\n",
       "      <td>35</td>\n",
       "      <td>female</td>\n",
       "    </tr>\n",
       "    <tr>\n",
       "      <th>4</th>\n",
       "      <td>anwar</td>\n",
       "      <td>20</td>\n",
       "      <td>kings</td>\n",
       "    </tr>\n",
       "    <tr>\n",
       "      <th>5</th>\n",
       "      <td>harry potter</td>\n",
       "      <td>28</td>\n",
       "      <td>kings</td>\n",
       "    </tr>\n",
       "    <tr>\n",
       "      <th>6</th>\n",
       "      <td>ahmed</td>\n",
       "      <td>55</td>\n",
       "      <td>kings</td>\n",
       "    </tr>\n",
       "  </tbody>\n",
       "</table>\n",
       "</div>"
      ],
      "text/plain": [
       "           name  age     sex\n",
       "0       mohamed   32   kings\n",
       "1         james   23   kings\n",
       "2         boody   45   kings\n",
       "3         salma   35  female\n",
       "4         anwar   20   kings\n",
       "5  harry potter   28   kings\n",
       "6         ahmed   55   kings"
      ]
     },
     "execution_count": 35,
     "metadata": {},
     "output_type": "execute_result"
    }
   ],
   "source": [
    "df"
   ]
  },
  {
   "cell_type": "code",
   "execution_count": null,
   "id": "5003851d",
   "metadata": {},
   "outputs": [],
   "source": []
  }
 ],
 "metadata": {
  "kernelspec": {
   "display_name": "Python 3 (ipykernel)",
   "language": "python",
   "name": "python3"
  },
  "language_info": {
   "codemirror_mode": {
    "name": "ipython",
    "version": 3
   },
   "file_extension": ".py",
   "mimetype": "text/x-python",
   "name": "python",
   "nbconvert_exporter": "python",
   "pygments_lexer": "ipython3",
   "version": "3.10.9"
  }
 },
 "nbformat": 4,
 "nbformat_minor": 5
}
