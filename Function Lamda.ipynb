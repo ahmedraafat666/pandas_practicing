{
 "cells": [
  {
   "cell_type": "markdown",
   "id": "6790432e",
   "metadata": {},
   "source": [
    "#### Function ==> Lamda\n",
    "#### Anonymous Function"
   ]
  },
  {
   "cell_type": "markdown",
   "id": "398868f6",
   "metadata": {},
   "source": [
    "- it has no name\n",
    "- you can call it inline without defining it\n",
    "- you can use it in return data from another function\n",
    "- lamda used for simple functions and def handle the large taskes\n",
    "- lamda is one single expression not block of code\n",
    "- lamda type is function"
   ]
  },
  {
   "cell_type": "markdown",
   "id": "f59b0eb2",
   "metadata": {},
   "source": [
    "#### simple code :"
   ]
  },
  {
   "cell_type": "code",
   "execution_count": 1,
   "id": "21eaca65",
   "metadata": {},
   "outputs": [],
   "source": [
    "def say_hello(name, age):\n",
    "    return f\"hello {name} your age is : {age}\""
   ]
  },
  {
   "cell_type": "code",
   "execution_count": 2,
   "id": "fff9fcce",
   "metadata": {},
   "outputs": [
    {
     "name": "stdout",
     "output_type": "stream",
     "text": [
      "hello Ahmed your age is : 21\n"
     ]
    }
   ],
   "source": [
    "print(say_hello(\"Ahmed\", 21))"
   ]
  },
  {
   "cell_type": "markdown",
   "id": "167940b3",
   "metadata": {},
   "source": [
    "#### Lamda code :"
   ]
  },
  {
   "cell_type": "code",
   "execution_count": 3,
   "id": "3ecd5527",
   "metadata": {},
   "outputs": [],
   "source": [
    "hello = lambda name, age : f\"hello {name} your age is : {age}\""
   ]
  },
  {
   "cell_type": "code",
   "execution_count": 4,
   "id": "e38641b9",
   "metadata": {},
   "outputs": [
    {
     "name": "stdout",
     "output_type": "stream",
     "text": [
      "hello Mohamed your age is : 19\n"
     ]
    }
   ],
   "source": [
    "print(hello(\"Mohamed\", 19))"
   ]
  },
  {
   "cell_type": "code",
   "execution_count": 5,
   "id": "093d7247",
   "metadata": {},
   "outputs": [
    {
     "name": "stdout",
     "output_type": "stream",
     "text": [
      "say_hello\n",
      "<lambda>\n"
     ]
    }
   ],
   "source": [
    "print(say_hello.__name__)\n",
    "print(hello.__name__)"
   ]
  },
  {
   "cell_type": "code",
   "execution_count": null,
   "id": "f7814a39",
   "metadata": {},
   "outputs": [],
   "source": []
  }
 ],
 "metadata": {
  "kernelspec": {
   "display_name": "Python 3 (ipykernel)",
   "language": "python",
   "name": "python3"
  },
  "language_info": {
   "codemirror_mode": {
    "name": "ipython",
    "version": 3
   },
   "file_extension": ".py",
   "mimetype": "text/x-python",
   "name": "python",
   "nbconvert_exporter": "python",
   "pygments_lexer": "ipython3",
   "version": "3.10.9"
  }
 },
 "nbformat": 4,
 "nbformat_minor": 5
}
