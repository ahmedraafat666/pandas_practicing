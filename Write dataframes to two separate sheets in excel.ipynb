{
 "cells": [
  {
   "cell_type": "code",
   "execution_count": 10,
   "id": "21e474cc",
   "metadata": {},
   "outputs": [],
   "source": [
    "import pandas as pd"
   ]
  },
  {
   "cell_type": "code",
   "execution_count": 11,
   "id": "478c62b6",
   "metadata": {},
   "outputs": [],
   "source": [
    "df1 = pd.DataFrame({'Names':[\"ahmed\",\"mohamed\",\"malik\",\"khaled\",\"rami\",\"marko\"],\n",
    "                   'Age':[21,19,17,20,30,25]})\n",
    "\n",
    "df2 = pd.DataFrame({'Names':[\"yousef\",\"boody\",\"abd allah\",\"zian\",\"hany\",\"ibrahim\"],\n",
    "                   'Age':[22,21,19,19,29,21]})\n",
    "\n",
    "df3 = pd.DataFrame({'Names':[\"harry\",\"hermony\",\"ron\",\"malfoy\",\"sevrioous\",\"dampldour\"],\n",
    "                   'Agr':[25,25,26,27,50,150]})\n",
    "\n",
    "\n",
    "dfs = {'Group1':df1,\n",
    "      'Group2':df2,\n",
    "      'Group3':df3}"
   ]
  },
  {
   "cell_type": "code",
   "execution_count": 12,
   "id": "b503e0e7",
   "metadata": {},
   "outputs": [
    {
     "data": {
      "text/plain": [
       "{'Group1':      Names  Age\n",
       " 0    ahmed   21\n",
       " 1  mohamed   19\n",
       " 2    malik   17\n",
       " 3   khaled   20\n",
       " 4     rami   30\n",
       " 5    marko   25,\n",
       " 'Group2':        Names  Age\n",
       " 0     yousef   22\n",
       " 1      boody   21\n",
       " 2  abd allah   19\n",
       " 3       zian   19\n",
       " 4       hany   29\n",
       " 5    ibrahim   21,\n",
       " 'Group3':        Names  Agr\n",
       " 0      harry   25\n",
       " 1    hermony   25\n",
       " 2        ron   26\n",
       " 3     malfoy   27\n",
       " 4  sevrioous   50\n",
       " 5  dampldour  150}"
      ]
     },
     "execution_count": 12,
     "metadata": {},
     "output_type": "execute_result"
    }
   ],
   "source": [
    "dfs"
   ]
  },
  {
   "cell_type": "code",
   "execution_count": 14,
   "id": "ef99c186",
   "metadata": {},
   "outputs": [
    {
     "name": "stderr",
     "output_type": "stream",
     "text": [
      "C:\\Users\\ar326\\AppData\\Local\\Temp\\ipykernel_38604\\3119676409.py:6: FutureWarning: save is not part of the public API, usage can give unexpected results and will be removed in a future version\n",
      "  writer.save()\n"
     ]
    }
   ],
   "source": [
    "writer = pd.ExcelWriter('NamesAndAges.xlsx')\n",
    "\n",
    "for sheet_name in dfs.keys():\n",
    "    dfs[sheet_name].to_excel(writer, sheet_name=sheet_name, index=False)\n",
    "\n",
    "writer.save()"
   ]
  },
  {
   "cell_type": "code",
   "execution_count": 15,
   "id": "3139dc99",
   "metadata": {},
   "outputs": [
    {
     "data": {
      "text/plain": [
       "{'Group1':      Names  Age\n",
       " 0    ahmed   21\n",
       " 1  mohamed   19\n",
       " 2    malik   17\n",
       " 3   khaled   20\n",
       " 4     rami   30\n",
       " 5    marko   25,\n",
       " 'Group2':        Names  Age\n",
       " 0     yousef   22\n",
       " 1      boody   21\n",
       " 2  abd allah   19\n",
       " 3       zian   19\n",
       " 4       hany   29\n",
       " 5    ibrahim   21,\n",
       " 'Group3':        Names  Agr\n",
       " 0      harry   25\n",
       " 1    hermony   25\n",
       " 2        ron   26\n",
       " 3     malfoy   27\n",
       " 4  sevrioous   50\n",
       " 5  dampldour  150}"
      ]
     },
     "execution_count": 15,
     "metadata": {},
     "output_type": "execute_result"
    }
   ],
   "source": [
    "df = pd.read_excel(\"NamesAndAges.xlsx\", sheet_name=['Group1','Group2','Group3'])\n",
    "df"
   ]
  },
  {
   "cell_type": "code",
   "execution_count": 16,
   "id": "558282fa",
   "metadata": {},
   "outputs": [
    {
     "data": {
      "text/html": [
       "<div>\n",
       "<style scoped>\n",
       "    .dataframe tbody tr th:only-of-type {\n",
       "        vertical-align: middle;\n",
       "    }\n",
       "\n",
       "    .dataframe tbody tr th {\n",
       "        vertical-align: top;\n",
       "    }\n",
       "\n",
       "    .dataframe thead th {\n",
       "        text-align: right;\n",
       "    }\n",
       "</style>\n",
       "<table border=\"1\" class=\"dataframe\">\n",
       "  <thead>\n",
       "    <tr style=\"text-align: right;\">\n",
       "      <th></th>\n",
       "      <th>Names</th>\n",
       "      <th>Age</th>\n",
       "      <th>Agr</th>\n",
       "    </tr>\n",
       "  </thead>\n",
       "  <tbody>\n",
       "    <tr>\n",
       "      <th>0</th>\n",
       "      <td>ahmed</td>\n",
       "      <td>21.0</td>\n",
       "      <td>NaN</td>\n",
       "    </tr>\n",
       "    <tr>\n",
       "      <th>1</th>\n",
       "      <td>mohamed</td>\n",
       "      <td>19.0</td>\n",
       "      <td>NaN</td>\n",
       "    </tr>\n",
       "    <tr>\n",
       "      <th>2</th>\n",
       "      <td>malik</td>\n",
       "      <td>17.0</td>\n",
       "      <td>NaN</td>\n",
       "    </tr>\n",
       "    <tr>\n",
       "      <th>3</th>\n",
       "      <td>khaled</td>\n",
       "      <td>20.0</td>\n",
       "      <td>NaN</td>\n",
       "    </tr>\n",
       "    <tr>\n",
       "      <th>4</th>\n",
       "      <td>rami</td>\n",
       "      <td>30.0</td>\n",
       "      <td>NaN</td>\n",
       "    </tr>\n",
       "    <tr>\n",
       "      <th>5</th>\n",
       "      <td>marko</td>\n",
       "      <td>25.0</td>\n",
       "      <td>NaN</td>\n",
       "    </tr>\n",
       "    <tr>\n",
       "      <th>0</th>\n",
       "      <td>yousef</td>\n",
       "      <td>22.0</td>\n",
       "      <td>NaN</td>\n",
       "    </tr>\n",
       "    <tr>\n",
       "      <th>1</th>\n",
       "      <td>boody</td>\n",
       "      <td>21.0</td>\n",
       "      <td>NaN</td>\n",
       "    </tr>\n",
       "    <tr>\n",
       "      <th>2</th>\n",
       "      <td>abd allah</td>\n",
       "      <td>19.0</td>\n",
       "      <td>NaN</td>\n",
       "    </tr>\n",
       "    <tr>\n",
       "      <th>3</th>\n",
       "      <td>zian</td>\n",
       "      <td>19.0</td>\n",
       "      <td>NaN</td>\n",
       "    </tr>\n",
       "    <tr>\n",
       "      <th>4</th>\n",
       "      <td>hany</td>\n",
       "      <td>29.0</td>\n",
       "      <td>NaN</td>\n",
       "    </tr>\n",
       "    <tr>\n",
       "      <th>5</th>\n",
       "      <td>ibrahim</td>\n",
       "      <td>21.0</td>\n",
       "      <td>NaN</td>\n",
       "    </tr>\n",
       "    <tr>\n",
       "      <th>0</th>\n",
       "      <td>harry</td>\n",
       "      <td>NaN</td>\n",
       "      <td>25.0</td>\n",
       "    </tr>\n",
       "    <tr>\n",
       "      <th>1</th>\n",
       "      <td>hermony</td>\n",
       "      <td>NaN</td>\n",
       "      <td>25.0</td>\n",
       "    </tr>\n",
       "    <tr>\n",
       "      <th>2</th>\n",
       "      <td>ron</td>\n",
       "      <td>NaN</td>\n",
       "      <td>26.0</td>\n",
       "    </tr>\n",
       "    <tr>\n",
       "      <th>3</th>\n",
       "      <td>malfoy</td>\n",
       "      <td>NaN</td>\n",
       "      <td>27.0</td>\n",
       "    </tr>\n",
       "    <tr>\n",
       "      <th>4</th>\n",
       "      <td>sevrioous</td>\n",
       "      <td>NaN</td>\n",
       "      <td>50.0</td>\n",
       "    </tr>\n",
       "    <tr>\n",
       "      <th>5</th>\n",
       "      <td>dampldour</td>\n",
       "      <td>NaN</td>\n",
       "      <td>150.0</td>\n",
       "    </tr>\n",
       "  </tbody>\n",
       "</table>\n",
       "</div>"
      ],
      "text/plain": [
       "       Names   Age    Agr\n",
       "0      ahmed  21.0    NaN\n",
       "1    mohamed  19.0    NaN\n",
       "2      malik  17.0    NaN\n",
       "3     khaled  20.0    NaN\n",
       "4       rami  30.0    NaN\n",
       "5      marko  25.0    NaN\n",
       "0     yousef  22.0    NaN\n",
       "1      boody  21.0    NaN\n",
       "2  abd allah  19.0    NaN\n",
       "3       zian  19.0    NaN\n",
       "4       hany  29.0    NaN\n",
       "5    ibrahim  21.0    NaN\n",
       "0      harry   NaN   25.0\n",
       "1    hermony   NaN   25.0\n",
       "2        ron   NaN   26.0\n",
       "3     malfoy   NaN   27.0\n",
       "4  sevrioous   NaN   50.0\n",
       "5  dampldour   NaN  150.0"
      ]
     },
     "execution_count": 16,
     "metadata": {},
     "output_type": "execute_result"
    }
   ],
   "source": [
    "df = pd.concat(df[frame] for frame in df.keys())\n",
    "df"
   ]
  },
  {
   "cell_type": "code",
   "execution_count": null,
   "id": "12dcdad0",
   "metadata": {},
   "outputs": [],
   "source": []
  }
 ],
 "metadata": {
  "kernelspec": {
   "display_name": "Python 3 (ipykernel)",
   "language": "python",
   "name": "python3"
  },
  "language_info": {
   "codemirror_mode": {
    "name": "ipython",
    "version": 3
   },
   "file_extension": ".py",
   "mimetype": "text/x-python",
   "name": "python",
   "nbconvert_exporter": "python",
   "pygments_lexer": "ipython3",
   "version": "3.10.9"
  }
 },
 "nbformat": 4,
 "nbformat_minor": 5
}
